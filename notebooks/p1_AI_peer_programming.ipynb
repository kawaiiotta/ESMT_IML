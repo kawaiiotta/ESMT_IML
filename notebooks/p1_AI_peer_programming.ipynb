{
 "cells": [
  {
   "cell_type": "markdown",
   "id": "395e2a68-646c-4a52-8bab-93683470ce40",
   "metadata": {
    "id": "84bf70f4-915d-4738-b78c-700b27b06f38"
   },
   "source": [
    "[![Open In Colab](https://colab.research.google.com/assets/colab-badge.svg)](https://colab.research.google.com/github/stefanlessmann/ESMT_IML/blob/main/notebooks/p1_AI_peer_programming.ipynb)"
   ]
  },
  {
   "cell_type": "markdown",
   "id": "eed6a413-abf4-44b3-9a69-b1483eaad5e0",
   "metadata": {},
   "source": [
    "# A Vanilla ML Workflow Peer-Programmed with AI\n",
    "No doubt you have heard about Generative AI (GenAI). In this session, we study how GenAI, specifically, ChatGPT can help us develop a Python script for analysis data. We consider a data set related to credit risk modeling and use ChatGPT to create codes for taking a first look at the data or, more formally, to engage in explanatory data analysis (EDA). The notebook provides four prompts, which have been tested and should work reasonably well. That said, there is no guarantee that these prompts will lead ChatGPT to output code that is ready to use. As said, one learning goal of this session is to *study how GenAI can help us*. We should not expect it to do all the work ;)\n",
    "\n",
    "We suggest you begin with the prompts below. Afterwards, you are most welcome to make changes, adjust the prompts, and examine how changes in your prompts change the generated codes; and, by extension, the effectiveness of the GenAI support. Let's move on with the first prompt."
   ]
  },
  {
   "cell_type": "markdown",
   "id": "a112d3d7-842f-46c4-96c0-1055eeda8760",
   "metadata": {},
   "source": [
    "## Prompt 1: Explanatory Data Analysis\n",
    "Submit the following prompt to ChatGPT. Copy the resulting code into the below code cell and (try to) execute it.\n",
    "\n",
    "```\n",
    "You are a data scientist working for a major retail bank. You received a data set of past transactions. Specifically, the data set is available as an MS Excel file hmeq.xlsx. Each row represents one loan application, which is characterized by several attributes (i.e., the columns).\n",
    "The table includes a binary target variable named \"BAD\", which indicates whether the credit was repaid (BAD==0) or not (BAD==1). Furthermore, the data set includes the following attributes:\n",
    "- LOAN: amount of the loan request\n",
    "- MORTDUE: amount due on an existing mortgage\n",
    "- VALUE: value of current property\n",
    "- REASON: DebtCon=debt consolidation; HomeImp=home improvement\n",
    "- JOB: occupational categories\n",
    "- YOJ: years at present job\n",
    "- DEROG: number of major derogatory reports\n",
    "- DELINQ: number of delinquent credit lines\n",
    "- CLAGE: age of oldest credit line in months\n",
    "- NINQ: number of recent credit inquiries\n",
    "- CLNO: number of credit lines\n",
    "- DEBTINC: debt-to-income ratio\n",
    "\n",
    "Your task is to write Python code to read the data from the Excel file and perform explanatory data analysis (EDA). The EDA step should involve the analysis of descriptive statistics of the attributes and make use of suitable visualizations to study their distribution. Bear in mind that the bank is very interested in the association between the attributes and the target. Therefore, your EDA should also comprise analysis/visualizations that shed light on the association of attributes and the target. Please make sure your analysis distinguishes properly between numerical attributes and categorical data.\n",
    "```"
   ]
  },
  {
   "cell_type": "code",
   "execution_count": 1,
   "id": "0d2b4ba9-c171-4879-80e5-0eb440658cf8",
   "metadata": {},
   "outputs": [],
   "source": [
    "# ChatGPT code goes here:\n",
    "\n"
   ]
  },
  {
   "cell_type": "markdown",
   "id": "08a751b8-ec7c-45fe-8a71-bd392d37c0bb",
   "metadata": {},
   "source": [
    "## Prompt 2: Missing Values\n",
    "Submit the following prompt to ChatGPT. Please make sure to do so in the same session. This will ensure that ChatGPT keeps a memory of previous tasks and your interactions. Copy the code you receive from ChatGPT into the below code cell and (try to) execute it.\n",
    "```\n",
    "You mention missing values. These are indeed a problem in this data set. Please write Python code examine the severety of missing values for each attribute. Next, use a basic strategy to impute missing values in each attribute.\n",
    "```"
   ]
  },
  {
   "cell_type": "code",
   "execution_count": 2,
   "id": "4fa877ee-0d67-4bd9-acac-0c2fc26fcd07",
   "metadata": {},
   "outputs": [],
   "source": [
    "# ChatGPT code goes here:"
   ]
  },
  {
   "cell_type": "markdown",
   "id": "a0b39717-55de-47ae-8e30-602159e0fafe",
   "metadata": {},
   "source": [
    "## Prompt 3: Data Transformation\n",
    "Submit the following prompt to ChatGPT. Please make sure to do so in the same session. This will ensure that ChatGPT keeps a memory of previous tasks and your interactions. Copy the code you receive from ChatGPT into the below code cell and (try to) execute it.\n",
    "```\n",
    "I noted that the distribution of some attributes show a strong peak at zero and a long tail with some few values far greater than zero. Can you suggest suitable data transformation that will make those variables more useful in a credit scorcard? Please write a Python function to apply those transformations to a specific attribute. Next use your function to transform the attributes:\n",
    "DEROG\n",
    "DELINQ\n",
    "NINQ\n",
    "``` "
   ]
  },
  {
   "cell_type": "code",
   "execution_count": 15,
   "id": "4a3a1ca8-0873-417b-8214-6161383d4844",
   "metadata": {},
   "outputs": [],
   "source": [
    "# ChatGPT code goes here:"
   ]
  },
  {
   "cell_type": "markdown",
   "id": "e1ae7313-d403-482a-9847-5ec41f6c261b",
   "metadata": {},
   "source": [
    "## Prompt 4: Vanilla Machine Learning Workflow\n",
    "Submit the following prompt to ChatGPT. Please make sure to do so in the same session. This will ensure that ChatGPT keeps a memory of previous tasks and your interactions. Copy the code you receive from ChatGPT into the below code cell and (try to) execute it.\n",
    "\n",
    "```\n",
    "Thanks for your help. I think the data is ready for training a machine learning model. Recall we aim to predict the target BAD from the attributes. Please write Python code for a vanilla machine learning workflow to do this. Make sure your code comprises the development of a predictive model and its evaluation.\n",
    "```"
   ]
  },
  {
   "cell_type": "code",
   "execution_count": 15,
   "id": "5b75a067-f625-4be7-9fa1-3e0fb6f7f9d5",
   "metadata": {},
   "outputs": [],
   "source": [
    "# ChatGPT code goes here:"
   ]
  }
 ],
 "metadata": {
  "kernelspec": {
   "display_name": "Python 3 (ipykernel)",
   "language": "python",
   "name": "python3"
  },
  "language_info": {
   "codemirror_mode": {
    "name": "ipython",
    "version": 3
   },
   "file_extension": ".py",
   "mimetype": "text/x-python",
   "name": "python",
   "nbconvert_exporter": "python",
   "pygments_lexer": "ipython3",
   "version": "3.9.13"
  }
 },
 "nbformat": 4,
 "nbformat_minor": 5
}
